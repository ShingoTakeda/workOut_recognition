{
 "cells": [
  {
   "cell_type": "markdown",
   "metadata": {},
   "source": [
    "# <u>収集したデータでモデルを学習</u>\n",
    "#### 今回収集したデータは以下のように，「センサーid」，「被験者番号」，「行動番号」，「何試行目か」が分かるように以下のようにファイル名を変更している．推定時で新規ファイルを入力する際は，ファイル名を変更する必要はない．\n",
    "#### 例）id0?\\_s0?\\_a0?_r0?.csv\n"
   ]
  },
  {
   "cell_type": "code",
   "execution_count": 1,
   "metadata": {},
   "outputs": [
    {
     "name": "stderr",
     "output_type": "stream",
     "text": [
      "/usr/local/anaconda3/lib/python3.7/site-packages/sklearn/ensemble/weight_boosting.py:29: DeprecationWarning: numpy.core.umath_tests is an internal NumPy module and should not be imported. It will be removed in a future NumPy release.\n",
      "  from numpy.core.umath_tests import inner1d\n"
     ]
    }
   ],
   "source": [
    "import os\n",
    "import glob\n",
    "import pandas as pd\n",
    "import numpy as np\n",
    "import scipy.signal as sig\n",
    "from sklearn.model_selection import LeaveOneGroupOut\n",
    "from sklearn.ensemble import RandomForestClassifier\n",
    "from sklearn.metrics import confusion_matrix\n",
    "from sklearn.metrics import classification_report\n",
    "import matplotlib.pyplot as plt\n",
    "import seaborn as sns\n",
    "from sklearn.model_selection import train_test_split\n",
    "from tqdm import tqdm\n",
    "from sklearn.model_selection import GridSearchCV\n",
    "from sklearn.metrics import f1_score\n",
    "import pickle"
   ]
  },
  {
   "cell_type": "code",
   "execution_count": 2,
   "metadata": {
    "scrolled": false
   },
   "outputs": [],
   "source": [
    "#データファイルのパス\n",
    "path = os.getcwd()\n",
    "path = path+'/data_imu/id*_s*_a*_r*.csv'\n",
    "\n",
    "#filesには全データファイルが格納されている\n",
    "files = sorted(glob.glob(path))\n",
    "\n",
    "#被験者1,2,4は一部のデータファイルが取得されてなかったので除外\n",
    "#files = list(filter(lambda x: 's01' not in x, files)) \n",
    "#files = list(filter(lambda x: 's02' not in x, files))\n",
    "#files = list(filter(lambda x: 's04' not in x, files))"
   ]
  },
  {
   "cell_type": "markdown",
   "metadata": {},
   "source": [
    "### 使用したいセンサ位置を指定\n",
    " (\"files\"前のコメントアウトを外すとその位置のデータは学習データに用いられない)"
   ]
  },
  {
   "cell_type": "code",
   "execution_count": 3,
   "metadata": {},
   "outputs": [],
   "source": [
    "#センサid01(右手首)\n",
    "#files = list(filter(lambda x: 'id01' not in x, files))\n",
    "\n",
    "#センサid02(左手首)\n",
    "#files = list(filter(lambda x: 'id02' not in x, files))\n",
    "\n",
    "#センサid03(右足首)\n",
    "#files = list(filter(lambda x: 'id03' not in x, files))\n",
    "\n",
    "#センサid04(左足首)\n",
    "#files = list(filter(lambda x: 'id04' not in x, files))\n",
    "\n",
    "#センサid05(腰の中央)\n",
    "#files = list(filter(lambda x: 'id05' not in x, files))"
   ]
  },
  {
   "cell_type": "markdown",
   "metadata": {},
   "source": [
    "### 前処理"
   ]
  },
  {
   "cell_type": "code",
   "execution_count": 4,
   "metadata": {
    "scrolled": false
   },
   "outputs": [],
   "source": [
    "#imuから取得されたデータのカラム名を指定\n",
    "header=[\n",
    "    'index',\n",
    "    'mag_x','mag_y','mag_z',\n",
    "    'acc_x','acc_y','acc_z',\n",
    "    'gyro_x','gyro_y','gyro_z',\n",
    "    'qw','qx','qy','qz'\n",
    "]\n",
    "\n",
    "#収集したデータのサンプリングレート(Hz)\n",
    "collected_sr = 200\n",
    "#変更後のサンプリングレート．100Hzに変更する．　\n",
    "change_sr = 100\n",
    "#間引き係数算出\n",
    "decimate_factor = collected_sr/change_sr\n",
    "\n",
    "\n",
    "#各ファイルを読み込み，それぞれで処理を行う\n",
    "ids= []\n",
    "subjects = []\n",
    "actions = []\n",
    "trials = []\n",
    "all_data = []\n",
    "for file in files:\n",
    "    data = pd.read_csv(file, header=None, skiprows=10, names=header) \n",
    "    #上で指定したサンプリングレートにダウンサンプリング\n",
    "    data = data.iloc[::int(decimate_factor)]\n",
    "\n",
    "    #全てのデータファイルをall_dataに格納\n",
    "    all_data.append(data)\n",
    "    #「センサーid」をidsに格納\n",
    "    ids.append(str(file[-18:-16]))\n",
    "    #「被験者番号」をsubjectsに格納\n",
    "    subjects.append(str(file[-14:-12]))\n",
    "    #「行動番号」をactionsに格納\n",
    "    actions.append(str(file[-10:-8]))\n",
    "    #「何試行目か」をtrialsに格納\n",
    "    trials.append(str(file[-6:-4]))\n",
    "    "
   ]
  },
  {
   "cell_type": "code",
   "execution_count": 5,
   "metadata": {
    "scrolled": false
   },
   "outputs": [],
   "source": [
    "#使用するデータ（カラム）を指定\n",
    "use_data=[\n",
    "    'acc_x','acc_y','acc_z',\n",
    "    'gyro_x','gyro_y','gyro_z',\n",
    "    'qw','qx','qy','qz'\n",
    "]\n",
    "\n",
    "#特徴量の数．最後の数字は何種の特徴量を用いるか\n",
    "nfeats = len(use_data)*5\n",
    "x = np.empty((0,nfeats))\n",
    "\n",
    "\n",
    "#各センサごとに1ファイルずつ読み込んで特徴量抽出を行う\n",
    "count =0\n",
    "for data in all_data:\n",
    "    count += 1\n",
    "    #使用しないカラムを削除\n",
    "    data = data.drop(['index','mag_x','mag_y','mag_z'],axis=1)\n",
    "    data = data.replace('        NaN',0.0)\n",
    "    data = data.replace('NaN',0.0)\n",
    "    \n",
    "    #特徴量抽出\n",
    "    mean_data = np.mean(data, axis=0)\n",
    "    std_data = np.std(data, axis=0)\n",
    "    var_data = np.var(data, axis=0)\n",
    "    max_data = np.max(data,axis=0)\n",
    "    min_data = np.min(data,axis=0)\n",
    "    \n",
    "    \n",
    "    features = np.empty((1,0))\n",
    "    features = np.append(features, mean_data)\n",
    "    features = np.append(features, std_data)\n",
    "    features = np.append(features, var_data)\n",
    "    features = np.append(features, max_data)\n",
    "    features = np.append(features, min_data)\n",
    "    \n",
    "    \n",
    "    #1ファイルを一行に変換する\n",
    "    if len(features) == nfeats:    \n",
    "        x = np.vstack((x, features.reshape(1,len(features)))) #vstackは配列を結合する\n",
    "    else:\n",
    "       #エラーがあった場合は，ファイルのindexを取得し削除する\n",
    "        error_index = count-1\n",
    "        ids.pop(error_index)\n",
    "        subjects.pop(error_index)\n",
    "        actions.pop(error_index)\n",
    "        trials.pop(error_index)\n",
    "        print(files[error_index])\n",
    "        "
   ]
  },
  {
   "cell_type": "code",
   "execution_count": 6,
   "metadata": {
    "scrolled": false
   },
   "outputs": [],
   "source": [
    "#各センサのデータを1つに結合\n",
    "num_feats = nfeats*int(len(list(set(ids))))  #最後の数字は使用するセンサの数\n",
    "X = np.empty((0,num_feats))\n",
    "subs = []\n",
    "acts = []\n",
    "rs= []\n",
    "all_sensors =[]\n",
    "\n",
    "for sub in sorted(list(set(subjects))):\n",
    "    for act in sorted(list(set(actions))):\n",
    "        for r in sorted(list(set(trials))):\n",
    "            st = list(filter(lambda x:'s'+sub+'_a'+act+'_r'+r  in x, files))\n",
    "            for i in range(len(st)):\n",
    "                all_sensors.extend(x[files.index(st[i])])                \n",
    "            \n",
    "            X = np.vstack((X, np.array(all_sensors)))\n",
    "            all_sensors =[]\n",
    "            \n",
    "            subs.append(sub)\n",
    "            acts.append(act)\n",
    "            rs.append(r)\n",
    "    \n",
    "y = np.asarray(acts)"
   ]
  },
  {
   "cell_type": "markdown",
   "metadata": {},
   "source": [
    "### パラメメータチューニング\n",
    "代表的なチューニング方法の<font color=\"Red\">グリッドサーチ</font>を用いてチューニング"
   ]
  },
  {
   "cell_type": "markdown",
   "metadata": {},
   "source": [
    "#トレーニングデータ、テストデータの分離\n",
    "train_X, test_X, train_y, test_y = train_test_split(X, y,random_state=0)\n",
    "\n",
    "#条件設定\n",
    "max_score = 0\n",
    "SearchMethod = 0\n",
    "RFC_grid = {RandomForestClassifier(): {\"n_estimators\": [i for i in range(1, 50)],\n",
    "                                       \"criterion\": [\"gini\", \"entropy\"],\n",
    "                                       \"max_depth\":[i for i in range(1, 10)],\n",
    "                                       \"random_state\": [i for i in range(0, 101)]\n",
    "                                      }}\n",
    "\n",
    "#ランダムフォレストの実行\n",
    "for model, param in tqdm(RFC_grid.items()):\n",
    "    clf = GridSearchCV(model, param,cv=3)\n",
    "    clf.fit(train_X, train_y)\n",
    "    pred_y = clf.predict(test_X)\n",
    "    score = f1_score(test_y, pred_y, average=\"micro\")\n",
    "\n",
    "    if max_score < score:\n",
    "        max_score = score\n",
    "        best_param = clf.best_params_\n",
    "        best_model = model.__class__.__name__\n",
    "\n",
    "print(\"ベストスコア:{}\".format(max_score))\n",
    "print(\"モデル:{}\".format(best_model))\n",
    "print(\"パラメーター:{}\".format(best_param))\n",
    "\n",
    "#ハイパーパラメータを調整しない場合との比較\n",
    "model = RandomForestClassifier()\n",
    "model.fit(train_X, train_y)\n",
    "score = model.score(test_X, test_y)\n",
    "print(\"\")\n",
    "print(\"デフォルトスコア:\", score)"
   ]
  },
  {
   "cell_type": "markdown",
   "metadata": {},
   "source": [
    "### モデル学習&テスト"
   ]
  },
  {
   "cell_type": "code",
   "execution_count": 7,
   "metadata": {
    "scrolled": false
   },
   "outputs": [
    {
     "name": "stdout",
     "output_type": "stream",
     "text": [
      "*Accuracy* train: 1.0 test: 0.9545454545454546\n",
      "             precision    recall  f1-score   support\n",
      "\n",
      "         01       1.00      1.00      1.00         2\n",
      "         02       1.00      1.00      1.00         2\n",
      "         03       1.00      1.00      1.00         2\n",
      "         04       0.67      1.00      0.80         2\n",
      "         05       1.00      0.50      0.67         2\n",
      "         06       1.00      1.00      1.00         2\n",
      "         07       1.00      1.00      1.00         2\n",
      "         08       1.00      1.00      1.00         2\n",
      "         09       1.00      1.00      1.00         2\n",
      "         10       1.00      1.00      1.00         2\n",
      "         11       1.00      1.00      1.00         2\n",
      "\n",
      "avg / total       0.97      0.95      0.95        22\n",
      "\n"
     ]
    },
    {
     "data": {
      "image/png": "[encoded data removed]",
      "text/plain": [
       "<Figure size 648x504 with 2 Axes>"
      ]
     },
     "metadata": {
      "needs_background": "light"
     },
     "output_type": "display_data"
    },
    {
     "name": "stdout",
     "output_type": "stream",
     "text": [
      "-----------\n",
      "*Accuracy* train: 1.0 test: 0.8636363636363636\n",
      "             precision    recall  f1-score   support\n",
      "\n",
      "         01       1.00      1.00      1.00         2\n",
      "         02       1.00      1.00      1.00         2\n",
      "         03       1.00      1.00      1.00         2\n",
      "         04       1.00      0.50      0.67         2\n",
      "         05       1.00      1.00      1.00         2\n",
      "         06       0.67      1.00      0.80         2\n",
      "         07       1.00      1.00      1.00         2\n",
      "         08       1.00      1.00      1.00         2\n",
      "         09       0.00      0.00      0.00         2\n",
      "         10       1.00      1.00      1.00         2\n",
      "         11       0.50      1.00      0.67         2\n",
      "\n",
      "avg / total       0.83      0.86      0.83        22\n",
      "\n"
     ]
    },
    {
     "name": "stderr",
     "output_type": "stream",
     "text": [
      "/usr/local/anaconda3/lib/python3.7/site-packages/sklearn/metrics/classification.py:1135: UndefinedMetricWarning: Precision and F-score are ill-defined and being set to 0.0 in labels with no predicted samples.\n",
      "  'precision', 'predicted', average, warn_for)\n"
     ]
    },
    {
     "data": {
      "image/png": "[encoded data removed]",
      "text/plain": [
       "<Figure size 648x504 with 2 Axes>"
      ]
     },
     "metadata": {
      "needs_background": "light"
     },
     "output_type": "display_data"
    },
    {
     "name": "stdout",
     "output_type": "stream",
     "text": [
      "-----------\n",
      "*Accuracy* train: 1.0 test: 0.9545454545454546\n",
      "             precision    recall  f1-score   support\n",
      "\n",
      "         01       1.00      1.00      1.00         2\n",
      "         02       1.00      1.00      1.00         2\n",
      "         03       1.00      1.00      1.00         2\n",
      "         04       1.00      0.50      0.67         2\n",
      "         05       0.67      1.00      0.80         2\n",
      "         06       1.00      1.00      1.00         2\n",
      "         07       1.00      1.00      1.00         2\n",
      "         08       1.00      1.00      1.00         2\n",
      "         09       1.00      1.00      1.00         2\n",
      "         10       1.00      1.00      1.00         2\n",
      "         11       1.00      1.00      1.00         2\n",
      "\n",
      "avg / total       0.97      0.95      0.95        22\n",
      "\n"
     ]
    },
    {
     "data": {
      "image/png": "[encoded data removed]",
      "text/plain": [
       "<Figure size 648x504 with 2 Axes>"
      ]
     },
     "metadata": {
      "needs_background": "light"
     },
     "output_type": "display_data"
    },
    {
     "name": "stdout",
     "output_type": "stream",
     "text": [
      "-----------\n",
      "*test_ave* 0.9242424242424243\n"
     ]
    }
   ],
   "source": [
    "#モデルを学習する\n",
    "#leave one subject out　\n",
    "logo = LeaveOneGroupOut()\n",
    "clf = RandomForestClassifier(max_depth=5, n_estimators=42)\n",
    "#clf = RandomForestClassifier()\n",
    "accuracy = [] \n",
    "    \n",
    "for train_index, test_index in logo.split(X, y, subs):\n",
    "    X_train, X_test = X[train_index], X[test_index]\n",
    "    y_train, y_test = y[train_index], y[test_index]\n",
    "    clf.fit(X_train, y_train)\n",
    "    acc_train = clf.score(X_train, y_train)\n",
    "    acc_test = clf.score(X_test, y_test)\n",
    "    accuracy.append(acc_test)\n",
    "       \n",
    "    y_pred = clf.predict(X_test)\n",
    "    conf = confusion_matrix(y_test, y_pred)\n",
    "    print(\"*Accuracy* train:\",acc_train, \"test:\",acc_test)\n",
    "    print(classification_report(y_test, y_pred))\n",
    "    labels = [\"01\",\"02\",\"03\",\"04\",\"05\",\"06\",\"07\",\"08\",\"09\",\"10\",\"11\"]\n",
    "\n",
    "    df_conf = pd.DataFrame(conf, index=labels, columns=labels)\n",
    "    plt.figure(figsize=(9,7))\n",
    "    sns.heatmap(df_conf,cmap='Blues',annot=True)\n",
    "    plt.title('confusion matrix')\n",
    "    plt.xlabel('Predicted label')\n",
    "    plt.ylabel('True label')\n",
    "    plt.show()\n",
    "   \n",
    "    print(\"-----------\")\n",
    "print(\"*test_ave*\",sum(accuracy)/len(accuracy))"
   ]
  },
  {
   "cell_type": "markdown",
   "metadata": {},
   "source": [
    "### 学習済みモデルを保存"
   ]
  },
  {
   "cell_type": "code",
   "execution_count": 8,
   "metadata": {},
   "outputs": [
    {
     "name": "stdout",
     "output_type": "stream",
     "text": [
      "Model Saved!\n"
     ]
    }
   ],
   "source": [
    "# モデルを保存名を設定.　同フォルダ内に設定した名前でモデルが保存される．\n",
    "filename = 'trained_model.sav'\n",
    "pickle.dump(clf, open(filename, 'wb'))\n",
    "print(\"Model Saved!\")"
   ]
  },
  {
   "cell_type": "code",
   "execution_count": null,
   "metadata": {},
   "outputs": [],
   "source": []
  }
 ],
 "metadata": {
  "kernelspec": {
   "display_name": "Python 3",
   "language": "python",
   "name": "python3"
  },
  "language_info": {
   "codemirror_mode": {
    "name": "ipython",
    "version": 3
   },
   "file_extension": ".py",
   "mimetype": "text/x-python",
   "name": "python",
   "nbconvert_exporter": "python",
   "pygments_lexer": "ipython3",
   "version": "3.6.6"
  }
 },
 "nbformat": 4,
 "nbformat_minor": 2
}
