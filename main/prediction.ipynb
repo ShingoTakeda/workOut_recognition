{
 "cells": [
  {
   "cell_type": "markdown",
   "metadata": {},
   "source": [
    "# <u>学習済みモデルを用いて推定</u>"
   ]
  },
  {
   "cell_type": "code",
   "execution_count": 1,
   "metadata": {},
   "outputs": [],
   "source": [
    "import os\n",
    "import pandas as pd\n",
    "import numpy as np\n",
    "import pickle\n",
    "import datetime\n",
    "import csv"
   ]
  },
  {
   "cell_type": "markdown",
   "metadata": {},
   "source": [
    "## <font color=\"Red\">↓ここに推定したい１行動分のデータファイルを記入する</font>"
   ]
  },
  {
   "cell_type": "code",
   "execution_count": 2,
   "metadata": {
    "scrolled": true
   },
   "outputs": [],
   "source": [
    "'''\n",
    "()内に，これから入力する新規ファイルのパスを書く(入力するファイル名は何でもOK)．\n",
    "現在あらかじめファイルを記入していますが，ここを変更してもらう形になります．\n",
    "現在入力しているファイルは，学習時に用いなかった被験者のデータであり，行動01（腕立て伏せ）のデータなので，出力として\n",
    "「腕立て伏せ」がアウトプットされていれば正しく認識できていたということになります．\n",
    "'''\n",
    "new_data=[]\n",
    "path = os.getcwd()\n",
    "## 右手首のファイル\n",
    "new_data.append(path+'/data_imu/id01_s04_a01_r01.csv')\n",
    "## 左手首のファイル\n",
    "new_data.append(path+'/data_imu/id02_s04_a01_r01.csv')\n",
    "## 右足首のファイル\n",
    "new_data.append(path+'/data_imu/id03_s04_a01_r01.csv')\n",
    "## 左足首のファイル\n",
    "new_data.append(path+'/data_imu/id04_s04_a01_r01.csv')\n",
    "## 腰の中央のファイル\n",
    "new_data.append(path+'/data_imu/id05_s04_a01_r01.csv')"
   ]
  },
  {
   "cell_type": "markdown",
   "metadata": {},
   "source": [
    "## 残りは全て実行するのみ"
   ]
  },
  {
   "cell_type": "code",
   "execution_count": 3,
   "metadata": {},
   "outputs": [],
   "source": [
    "#imuから取得されたデータのカラム名を指定\n",
    "header=[\n",
    "    'index',\n",
    "    'mag_x','mag_y','mag_z',\n",
    "    'acc_x','acc_y','acc_z',\n",
    "    'gyro_x','gyro_y','gyro_z',\n",
    "    'qw','qx','qy','qz'\n",
    "]\n",
    "\n",
    "all_data=[]\n",
    "for file in new_data:\n",
    "    data = pd.read_csv(file, header=None, skiprows=10, names=header)\n",
    "    #全てのデータファイルをall_dataに格納\n",
    "    all_data.append(data)\n",
    "    \n",
    "    \n",
    "#使用するデータ（カラム）を指定\n",
    "use_data=[\n",
    "    'acc_x','acc_y','acc_z',\n",
    "    'gyro_x','gyro_y','gyro_z',\n",
    "    'qw','qx','qy','qz'\n",
    "]\n",
    "\n",
    "#特徴量の数．最後の数字は何種の特徴量を用いるか\n",
    "nfeats = len(use_data)*5\n",
    "x = np.empty((0,nfeats))\n",
    "\n",
    "\n",
    "#各センサごとに1ファイルずつ読み込んで特徴量抽出を行う\n",
    "for data in all_data:\n",
    "    #使用しないカラムを削除\n",
    "    data = data.drop(['index','mag_x','mag_y','mag_z'],axis=1)\n",
    "    data = data.replace('        NaN',0.0)\n",
    "    data = data.replace('NaN',0.0)\n",
    "    \n",
    "    #特徴量抽出\n",
    "    mean_data = np.mean(data, axis=0)\n",
    "    std_data = np.std(data, axis=0)\n",
    "    var_data = np.var(data, axis=0)\n",
    "    max_data = np.max(data,axis=0)\n",
    "    min_data = np.min(data,axis=0)\n",
    "    \n",
    "    \n",
    "    features = np.empty((1,0))\n",
    "    features = np.append(features, mean_data)\n",
    "    features = np.append(features, std_data)\n",
    "    features = np.append(features, var_data)\n",
    "    features = np.append(features, max_data)\n",
    "    features = np.append(features, min_data)\n",
    "    \n",
    "    \n",
    "    #1ファイルを一行に変換する\n",
    "    if len(features) == nfeats:    \n",
    "        x = np.vstack((x, features.reshape(1,len(features)))) #vstackは配列を結合する\n",
    "    else:\n",
    "        print(\"error\")"
   ]
  },
  {
   "cell_type": "code",
   "execution_count": 4,
   "metadata": {},
   "outputs": [],
   "source": [
    "#各センサのデータを1つに結合\n",
    "num_feats = nfeats*int(x.shape[0]) #最後の数字は使用するセンサの数\n",
    "X = np.empty((0,num_feats))\n",
    "all_sensors =[]\n",
    "\n",
    "for i in range(len(new_data)):\n",
    "    all_sensors.extend(x[i])                \n",
    "X = np.vstack((X, np.array(all_sensors)))"
   ]
  },
  {
   "cell_type": "markdown",
   "metadata": {},
   "source": [
    "### 学習済みモデルに入力&出力"
   ]
  },
  {
   "cell_type": "code",
   "execution_count": 5,
   "metadata": {},
   "outputs": [
    {
     "name": "stdout",
     "output_type": "stream",
     "text": [
      "estimation finished\n"
     ]
    },
    {
     "name": "stderr",
     "output_type": "stream",
     "text": [
      "/usr/local/anaconda3/lib/python3.7/site-packages/sklearn/ensemble/weight_boosting.py:29: DeprecationWarning: numpy.core.umath_tests is an internal NumPy module and should not be imported. It will be removed in a future NumPy release.\n",
      "  from numpy.core.umath_tests import inner1d\n"
     ]
    }
   ],
   "source": [
    "#\"training_model.ipynb\"で学習済みモデルを読み込み.\n",
    "filename = 'trained_model.sav'\n",
    "loaded_model = pickle.load(open(filename, 'rb'))\n",
    "y_pred = loaded_model.predict(X)\n",
    "dt_now = datetime.datetime.now()\n",
    "\n",
    "#対象行動群\n",
    "actions={'01':'act01:Push Up', 'act02':'02:Crunch','03':'act03:Leg raise','04':'act04:Plank',\n",
    "         '05':'act05:Bird Dog','06':'act06:Hip Lift','07':'act07:Squat','08':'act08:Front Lunge',\n",
    "         '09':'act09:Running','10':'act10:Single Leg Drop Jumps','11':'act11:Continuous jumps'}\n",
    "\n",
    "#csvファイルに出力\n",
    "with open('estimation_result/'+dt_now.strftime('%Y%m%d_%H%M%S')+'.csv', 'w') as f:\n",
    "    # header を設定\n",
    "    fieldnames = ['date_time', 'result']\n",
    "    writer = csv.DictWriter(f, fieldnames=fieldnames)\n",
    "    writer.writeheader()\n",
    "\n",
    "    # データの書き込み\n",
    "    writer.writerow({'date_time':dt_now.strftime('%Y/%m/%d/%H:%M:%S'), 'result':actions[y_pred[0]]} )\n",
    "    \n",
    "print(\"estimation finished\")"
   ]
  },
  {
   "cell_type": "markdown",
   "metadata": {},
   "source": [
    "## 出力結果が\"estimation_result\"フォルダ内に保存されます．"
   ]
  }
 ],
 "metadata": {
  "kernelspec": {
   "display_name": "Python 3",
   "language": "python",
   "name": "python3"
  },
  "language_info": {
   "codemirror_mode": {
    "name": "ipython",
    "version": 3
   },
   "file_extension": ".py",
   "mimetype": "text/x-python",
   "name": "python",
   "nbconvert_exporter": "python",
   "pygments_lexer": "ipython3",
   "version": "3.7.1"
  }
 },
 "nbformat": 4,
 "nbformat_minor": 2
}
